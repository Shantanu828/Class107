{
  "nbformat": 4,
  "nbformat_minor": 0,
  "metadata": {
    "colab": {
      "provenance": [],
      "include_colab_link": true
    },
    "kernelspec": {
      "name": "python3",
      "display_name": "Python 3"
    },
    "language_info": {
      "name": "python"
    }
  },
  "cells": [
    {
      "cell_type": "markdown",
      "metadata": {
        "id": "view-in-github",
        "colab_type": "text"
      },
      "source": [
        "<a href=\"https://colab.research.google.com/github/Shantanu828/Class107/blob/main/PRO_C123_Project_Boilerplate_Code.ipynb\" target=\"_parent\"><img src=\"https://colab.research.google.com/assets/colab-badge.svg\" alt=\"Open In Colab\"/></a>"
      ]
    },
    {
      "cell_type": "markdown",
      "source": [
        "**Archery-Target** is a game in which the players shoot sharp-pointed arrows at a round target having 10 rings.\n",
        "\n",
        "<img src=\"https://s3-whjr-curriculum-uploads.whjr.online/4de9132a-c71d-42ce-9099-3293e8805fd9.jpg\"> "
      ],
      "metadata": {
        "id": "nUWO5QkC_g-4"
      }
    },
    {
      "cell_type": "markdown",
      "source": [
        "## RL Problem to Solve\n",
        "Hit the center of the target with maximum reward"
      ],
      "metadata": {
        "id": "5QtHLAqv3wP3"
      }
    },
    {
      "cell_type": "markdown",
      "source": [
        "<img src=\"https://s3-whjr-curriculum-uploads.whjr.online/40656a8c-14e2-4dd7-9f9e-4c17669b9182.png\" width=300>\n",
        "\n",
        "\n",
        "Number of **State**: ?\n",
        "\n",
        "Number of **Actions**: ?\n",
        "\n"
      ],
      "metadata": {
        "id": "Osb6FQ74YZtE"
      }
    },
    {
      "cell_type": "markdown",
      "source": [
        "## Rewards"
      ],
      "metadata": {
        "id": "m3Ut2W9A4EiB"
      }
    },
    {
      "cell_type": "code",
      "source": [
        "#import required libraries\n",
        "import numpy as np\n",
        "import random"
      ],
      "metadata": {
        "id": "PqX3v26eEt0T"
      },
      "execution_count": 1,
      "outputs": []
    },
    {
      "cell_type": "markdown",
      "source": [
        "## Reward Matrix\n",
        "Reward Matrix represents states as rows and actions as columns with respective awards values assigned for a given state and action pair."
      ],
      "metadata": {
        "id": "Ujmi3BO54LfJ"
      }
    },
    {
      "cell_type": "code",
      "source": [
        "#Create reward matrix\n",
        "rewards=np.array([\n",
        "    [20],\n",
        "    [40],\n",
        "    [60],\n",
        "    [80],\n",
        "    [100]\n",
        "])\n",
        "\n"
      ],
      "metadata": {
        "id": "khJ1RqL3Eksu"
      },
      "execution_count": 2,
      "outputs": []
    },
    {
      "cell_type": "markdown",
      "source": [
        "## Take Action Randomly"
      ],
      "metadata": {
        "id": "Af-CAmdfkDQY"
      }
    },
    {
      "cell_type": "code",
      "source": [
        "#Define a function shoot() for taking random action\n",
        "def shoot():\n",
        "    return np.random.randint(0, 5) "
      ],
      "metadata": {
        "id": "ibSLCyMyigmK"
      },
      "execution_count": 4,
      "outputs": []
    },
    {
      "cell_type": "code",
      "source": [
        "shoot()"
      ],
      "metadata": {
        "id": "OzH_PnJHu79N",
        "outputId": "ad1d1396-f5ac-4a5f-9d2f-6fcb182e55d4",
        "colab": {
          "base_uri": "https://localhost:8080/"
        }
      },
      "execution_count": 5,
      "outputs": [
        {
          "output_type": "execute_result",
          "data": {
            "text/plain": [
              "3"
            ]
          },
          "metadata": {},
          "execution_count": 5
        }
      ]
    },
    {
      "cell_type": "code",
      "source": [
        "def get_action(current_state, reward_matrix):\n",
        "    available_action = []\n",
        "    print(\"reward_matrix\",\"\\n\",reward_matrix)    \n",
        "    for action in enumerate(reward_matrix[current_state]):     \n",
        "        if action[1]!= -1:            \n",
        "            available_action.append(action[0]) \n",
        "    choose_action = random.choice(available_action)\n",
        "    print(\"Random choice of action from\",available_action,\"is\", choose_action)           \n",
        "    return choose_action"
      ],
      "metadata": {
        "id": "_G48ox85vG78"
      },
      "execution_count": 6,
      "outputs": []
    },
    {
      "cell_type": "code",
      "source": [
        "current_state = 2\n",
        "action = get_action(current_state, rewards)\n",
        "print(action)"
      ],
      "metadata": {
        "id": "RmxcRYXnvkdJ",
        "outputId": "caa2d72c-1711-450d-849a-947e799c71b4",
        "colab": {
          "base_uri": "https://localhost:8080/"
        }
      },
      "execution_count": 8,
      "outputs": [
        {
          "output_type": "stream",
          "name": "stdout",
          "text": [
            "reward_matrix \n",
            " [[ 20]\n",
            " [ 40]\n",
            " [ 60]\n",
            " [ 80]\n",
            " [100]]\n",
            "Random choice of action from [0] is 0\n",
            "0\n"
          ]
        }
      ]
    }
  ]
}